{
 "cells": [
  {
   "cell_type": "code",
   "execution_count": 74,
   "metadata": {},
   "outputs": [],
   "source": [
    "import pandas as pd\n",
    "import numpy as np\n",
    "from copy import deepcopy"
   ]
  },
  {
   "cell_type": "code",
   "execution_count": 75,
   "metadata": {},
   "outputs": [],
   "source": [
    "SIDES=[\"left\", \"right\"]\n",
    "CLIP_DURATION = 5"
   ]
  },
  {
   "cell_type": "code",
   "execution_count": 76,
   "metadata": {},
   "outputs": [],
   "source": [
    "def load_data(path):\n",
    "    with open(path, \"rb\") as f:\n",
    "        data = pd.read_pickle(f)\n",
    "    return data\n",
    "\n",
    "def save_data(data, path):\n",
    "    with open(path, \"wb\") as f:\n",
    "        pd.to_pickle(data, f)"
   ]
  },
  {
   "cell_type": "code",
   "execution_count": 83,
   "metadata": {},
   "outputs": [],
   "source": [
    "# Function to process each row of the DataFrame\n",
    "def data_augmentation(data:pd.DataFrame, duration=5, num_clips=None):\n",
    "    if num_clips is None:\n",
    "        augmented=[]\n",
    "        for tup in data.iterrows():\n",
    "            row = tup[1].copy()\n",
    "            tot_time =  row[\"stop\"]- row[\"start\"]\n",
    "            if tot_time>duration:\n",
    "                cuts = np.arange(row[\"start\"], row[\"stop\"], duration)\n",
    "                for c in cuts:\n",
    "                    new_row = row.copy()\n",
    "                    new_row[\"start\"] = c\n",
    "                    if c+duration>row[\"stop\"]:\n",
    "                        new_row[\"stop\"] = row[\"stop\"]\n",
    "                    else:\n",
    "                        new_row[\"stop\"] = c+duration\n",
    "                    left_indexes=(new_row[\"myo_left_timestamps\"]>=c) & (new_row[\"myo_left_timestamps\"]<c+duration)\n",
    "                    right_indexes=(new_row[\"myo_right_timestamps\"]>=c) & (new_row[\"myo_right_timestamps\"]<c+duration)\n",
    "                    new_row[\"myo_left_timestamps\"] = new_row[\"myo_left_timestamps\"][left_indexes]\n",
    "                    new_row[\"myo_right_timestamps\"] = new_row[\"myo_right_timestamps\"][right_indexes]\n",
    "                    new_row[\"myo_left_readings\"] = new_row[\"myo_left_readings\"][left_indexes,:]\n",
    "                    new_row[\"myo_right_readings\"] = new_row[\"myo_right_readings\"][right_indexes,:]\n",
    "                    augmented.append(new_row)\n",
    "            else:\n",
    "                augmented.append(row)\n",
    "        return pd.DataFrame(augmented)\n",
    "    else:\n",
    "        augmented=[]\n",
    "        for tup in data.iterrows():\n",
    "            row = tup[1].copy()\n",
    "            tot_time =  row[\"stop\"]- row[\"start\"]\n",
    "            duration = min(duration, tot_time)\n",
    "            highest_offset=max(row[\"start\"], row[\"stop\"]-duration)\n",
    "            cuts = np.linspace(row[\"start\"], highest_offset, num_clips)\n",
    "            for c in cuts:\n",
    "                new_row = row.copy()\n",
    "                new_row[\"start\"] = c\n",
    "                if c+duration>row[\"stop\"]:\n",
    "                    new_row[\"stop\"] = row[\"stop\"]\n",
    "                else:\n",
    "                    new_row[\"stop\"] = c+duration\n",
    "                left_indexes=(new_row[\"myo_left_timestamps\"]>=c) & (new_row[\"myo_left_timestamps\"]<=c+duration)\n",
    "                right_indexes=(new_row[\"myo_right_timestamps\"]>=c) & (new_row[\"myo_right_timestamps\"]<=c+duration)\n",
    "                new_row[\"myo_left_timestamps\"] = new_row[\"myo_left_timestamps\"][left_indexes]\n",
    "                new_row[\"myo_right_timestamps\"] = new_row[\"myo_right_timestamps\"][right_indexes]\n",
    "                new_row[\"myo_left_readings\"] = new_row[\"myo_left_readings\"][left_indexes,:]\n",
    "                new_row[\"myo_right_readings\"] = new_row[\"myo_right_readings\"][right_indexes,:]\n",
    "                augmented.append(new_row)\n",
    "        return pd.DataFrame(augmented)"
   ]
  },
  {
   "cell_type": "code",
   "execution_count": 84,
   "metadata": {},
   "outputs": [],
   "source": [
    "def save_augmented_data(path, duration, name, num_clips=None):\n",
    "    data = load_data(path)\n",
    "    a = data_augmentation(data, duration, num_clips)\n",
    "    print(\"Original train data:\", data.shape)\n",
    "    print(\"Augmented train data:\", a.shape)\n",
    "    print(a.head())\n",
    "    print(\"Saving augmented data\")\n",
    "    save_data(a, f\"data/ActionNet/{name}_EMG_augmented.pkl\")"
   ]
  },
  {
   "cell_type": "code",
   "execution_count": 89,
   "metadata": {},
   "outputs": [
    {
     "name": "stdout",
     "output_type": "stream",
     "text": [
      "Original train data: (59, 9)\n",
      "Augmented train data: (1180, 9)\n",
      "       description         start          stop  \\\n",
      "4  Peel a cucumber  1.655172e+09  1.655172e+09   \n",
      "4  Peel a cucumber  1.655172e+09  1.655172e+09   \n",
      "4  Peel a cucumber  1.655172e+09  1.655172e+09   \n",
      "4  Peel a cucumber  1.655172e+09  1.655172e+09   \n",
      "4  Peel a cucumber  1.655172e+09  1.655172e+09   \n",
      "\n",
      "                                 myo_left_timestamps  \\\n",
      "4  [1655172364.999943, 1655172365.0039296, 165517...   \n",
      "4  [1655172367.01022, 1655172367.0251698, 1655172...   \n",
      "4  [1655172369.02747, 1655172369.0314565, 1655172...   \n",
      "4  [1655172371.037739, 1655172371.045712, 1655172...   \n",
      "4  [1655172373.048013, 1655172373.051503, 1655172...   \n",
      "\n",
      "                                   myo_left_readings  \\\n",
      "4  [[-1, -46, 29, 37, -8, 25, -10, 18], [4, 33, -...   \n",
      "4  [[-8, 14, 118, 115, 2, 14, -6, -7], [31, 23, -...   \n",
      "4  [[3, -18, 2, 8, 20, 32, 5, 2], [8, 7, -1, 45, ...   \n",
      "4  [[0, 12, 4, -15, -18, 8, 25, 21], [-31, -38, -...   \n",
      "4  [[25, -3, 13, 4, 10, -14, -17, -2], [-25, -11,...   \n",
      "\n",
      "                                myo_right_timestamps  \\\n",
      "4  [1655172364.997953, 1655172365.0014415, 165517...   \n",
      "4  [1655172367.0112145, 1655172367.015203, 165517...   \n",
      "4  [1655172369.0214875, 1655172369.025472, 165517...   \n",
      "4  [1655172371.042722, 1655172371.0501971, 165517...   \n",
      "4  [1655172373.045028, 1655172373.0525005, 165517...   \n",
      "\n",
      "                                  myo_right_readings Subject  label  \n",
      "4  [[-3, 17, -1, -6, -9, 6, 11, 7], [18, 15, 15, ...   S02_2      5  \n",
      "4  [[46, 79, 28, -3, -51, -3, -24, -26], [16, 19,...   S02_2      5  \n",
      "4  [[-1, -49, -12, -34, 7, -4, -13, -14], [16, -1...   S02_2      5  \n",
      "4  [[18, 92, 97, 9, 23, 8, 0, -1], [-64, 25, 54, ...   S02_2      5  \n",
      "4  [[-4, -6, -1, -27, -102, -44, -24, -36], [7, 1...   S02_2      5  \n",
      "Saving augmented data\n"
     ]
    }
   ],
   "source": [
    "split=\"test\"\n",
    "save_augmented_data(f\"data/ActionNet_EMG/{split}_EMG_filtered.pkl\", 10, split, num_clips=20)"
   ]
  }
 ],
 "metadata": {
  "kernelspec": {
   "display_name": "Python 3",
   "language": "python",
   "name": "python3"
  },
  "language_info": {
   "codemirror_mode": {
    "name": "ipython",
    "version": 3
   },
   "file_extension": ".py",
   "mimetype": "text/x-python",
   "name": "python",
   "nbconvert_exporter": "python",
   "pygments_lexer": "ipython3",
   "version": "3.12.1"
  }
 },
 "nbformat": 4,
 "nbformat_minor": 2
}
