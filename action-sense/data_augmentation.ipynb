{
 "cells": [
  {
   "cell_type": "code",
   "execution_count": 133,
   "metadata": {},
   "outputs": [],
   "source": [
    "import pandas as pd\n",
    "import numpy as np\n",
    "from scipy.interpolate import interp1d\n",
    "from copy import deepcopy"
   ]
  },
  {
   "cell_type": "code",
   "execution_count": 134,
   "metadata": {},
   "outputs": [],
   "source": [
    "MODE=\"test\"\n",
    "SIDES=[\"left\", \"right\"]\n",
    "NUM_SAMPLES = 100 \n",
    "CLIP_DURATION = 10 # Duration in seconds\n",
    "NUM_CLIPS = 10 "
   ]
  },
  {
   "cell_type": "code",
   "execution_count": 135,
   "metadata": {},
   "outputs": [],
   "source": [
    "def load_data(path):\n",
    "    with open(path, \"rb\") as f:\n",
    "        data = pd.read_pickle(f)\n",
    "    return data\n",
    "\n",
    "def save_data(data, path):\n",
    "    with open(path, \"wb\") as f:\n",
    "        pd.to_pickle(data, f)"
   ]
  },
  {
   "cell_type": "code",
   "execution_count": 136,
   "metadata": {},
   "outputs": [],
   "source": [
    "# Function to process each row of the DataFrame\n",
    "def data_augmentation(data:pd.DataFrame, num_samples=100, duration=10, num_clips = 10):\n",
    "    new=[]\n",
    "    side=\"left\"\n",
    "    for idx in range(len(data)):\n",
    "        row = deepcopy(data.iloc[idx])\n",
    "        tot_time = row[f\"myo_{side}_timestamps\"][-1] - row[f\"myo_{side}_timestamps\"][0]\n",
    "        duration = min(duration, tot_time)\n",
    "        highest_offset=max(0, tot_time-duration)\n",
    "        offsets = np.linspace(0, highest_offset, num_clips)+row[f\"myo_{side}_timestamps\"][0]\n",
    "        timestamps = row[f\"myo_{side}_timestamps\"]\n",
    "        readings = row[f\"myo_{side}_readings\"]\n",
    "        interpolator = interp1d(timestamps, readings, kind='linear', fill_value='extrapolate', axis=0)\n",
    "        for st in offsets:\n",
    "            row = deepcopy(data.iloc[idx])\n",
    "            interpolation_time = np.linspace(st, st + duration, num_samples)  # Assuming the last timestamp represents the end time\n",
    "            interpolated_data = interpolator(interpolation_time)\n",
    "            row[f\"myo_{side}_timestamps\"] = interpolation_time\n",
    "            row[f\"myo_{side}_readings\"] = interpolated_data\n",
    "            new.append(row)\n",
    "    new = pd.DataFrame(new)\n",
    "    side=\"right\"\n",
    "    for idx in range(len(new)):\n",
    "        row = new.iloc[idx]\n",
    "        tot_time = row[f\"myo_{side}_timestamps\"][-1] - row[f\"myo_{side}_timestamps\"][0]\n",
    "        duration = min(duration, tot_time)\n",
    "        highest_offset=max(0, tot_time-duration)\n",
    "        offsets = np.linspace(0, highest_offset, num_clips)+row[f\"myo_{side}_timestamps\"][0]\n",
    "        timestamps = row[f\"myo_{side}_timestamps\"]\n",
    "        readings = row[f\"myo_{side}_readings\"]\n",
    "        interpolator = interp1d(timestamps, readings, kind='linear', fill_value='extrapolate', axis=0)\n",
    "        for st in offsets:\n",
    "            interpolation_time = np.linspace(st, st + duration, num_samples)  # Assuming the last timestamp represents the end time\n",
    "            interpolated_data = interpolator(interpolation_time)\n",
    "            new[f\"myo_{side}_timestamps\"].iloc[idx] = interpolation_time\n",
    "            new[f\"myo_{side}_readings\"].iloc[idx] = interpolated_data\n",
    "    return new"
   ]
  },
  {
   "cell_type": "code",
   "execution_count": 137,
   "metadata": {},
   "outputs": [
    {
     "name": "stderr",
     "output_type": "stream",
     "text": [
      "/var/folders/vv/68yh64d172jf_vsrj05s2kwc0000gn/T/ipykernel_13122/1480370074.py:35: SettingWithCopyWarning: \n",
      "A value is trying to be set on a copy of a slice from a DataFrame\n",
      "\n",
      "See the caveats in the documentation: https://pandas.pydata.org/pandas-docs/stable/user_guide/indexing.html#returning-a-view-versus-a-copy\n",
      "  new[f\"myo_{side}_timestamps\"].iloc[idx] = interpolation_time\n",
      "/var/folders/vv/68yh64d172jf_vsrj05s2kwc0000gn/T/ipykernel_13122/1480370074.py:36: SettingWithCopyWarning: \n",
      "A value is trying to be set on a copy of a slice from a DataFrame\n",
      "\n",
      "See the caveats in the documentation: https://pandas.pydata.org/pandas-docs/stable/user_guide/indexing.html#returning-a-view-versus-a-copy\n",
      "  new[f\"myo_{side}_readings\"].iloc[idx] = interpolated_data\n"
     ]
    },
    {
     "name": "stdout",
     "output_type": "stream",
     "text": [
      "(7919, 8)\n",
      "ORiginal data shape (59, 8)\n",
      "(100, 8)\n",
      "New data shape (590, 8)\n",
      "       description         start          stop  \\\n",
      "4  Peel a cucumber  1.655172e+09  1.655172e+09   \n",
      "4  Peel a cucumber  1.655172e+09  1.655172e+09   \n",
      "4  Peel a cucumber  1.655172e+09  1.655172e+09   \n",
      "4  Peel a cucumber  1.655172e+09  1.655172e+09   \n",
      "4  Peel a cucumber  1.655172e+09  1.655172e+09   \n",
      "\n",
      "                                 myo_left_timestamps  \\\n",
      "4  [1655172364.999943, 1655172365.100953, 1655172...   \n",
      "4  [1655172369.247236, 1655172369.348246, 1655172...   \n",
      "4  [1655172373.494529, 1655172373.595539, 1655172...   \n",
      "4  [1655172377.741822, 1655172377.842832, 1655172...   \n",
      "4  [1655172381.989115, 1655172382.090125, 1655172...   \n",
      "\n",
      "                                   myo_left_readings  \\\n",
      "4  [[-0.9733333333333334, 0.19999999999999996, -0...   \n",
      "4  [[-0.8133333333333334, -0.6302896911700739, -0...   \n",
      "4  [[-0.7827855254762556, -0.41333333333333333, -...   \n",
      "4  [[-0.7333333333333334, -0.38316525806623086, -...   \n",
      "4  [[-0.52, -0.36774175899329775, -0.501075092326...   \n",
      "\n",
      "                                myo_right_timestamps  \\\n",
      "4  [1655172410.493591, 1655172410.5211668, 165517...   \n",
      "4  [1655172410.493591, 1655172410.5211668, 165517...   \n",
      "4  [1655172410.493591, 1655172410.5211668, 165517...   \n",
      "4  [1655172410.493591, 1655172410.5211668, 165517...   \n",
      "4  [1655172410.493591, 1655172410.5211668, 165517...   \n",
      "\n",
      "                                  myo_right_readings Subject  \n",
      "4  [[-0.2237224086265194, -0.5942028985507246, -0...   S02_2  \n",
      "4  [[-0.2237224086265194, -0.5942028985507246, -0...   S02_2  \n",
      "4  [[-0.2237224086265194, -0.5942028985507246, -0...   S02_2  \n",
      "4  [[-0.2237224086265194, -0.5942028985507246, -0...   S02_2  \n",
      "4  [[-0.2237224086265194, -0.5942028985507246, -0...   S02_2  \n"
     ]
    }
   ],
   "source": [
    "data = load_data(f\"data/ActionNet-EMG/ActionNet_{MODE}_emg_processed.pkl\")\n",
    "new_data = data_augmentation(data, num_samples=NUM_SAMPLES, duration=CLIP_DURATION, num_clips=NUM_CLIPS)\n",
    "print(data[\"myo_left_readings\"].iloc[0].shape)\n",
    "print(\"ORiginal data shape\", data.shape)\n",
    "print(new_data[\"myo_left_readings\"].iloc[0].shape)\n",
    "print(\"New data shape\", new_data.shape)\n",
    "print(new_data.head())"
   ]
  },
  {
   "cell_type": "code",
   "execution_count": 138,
   "metadata": {},
   "outputs": [],
   "source": [
    "save_data(new_data, f\"data/ActionNet-EMG/ActionNet_{MODE}_emg_augmented.pkl\")"
   ]
  }
 ],
 "metadata": {
  "kernelspec": {
   "display_name": "Python 3",
   "language": "python",
   "name": "python3"
  },
  "language_info": {
   "codemirror_mode": {
    "name": "ipython",
    "version": 3
   },
   "file_extension": ".py",
   "mimetype": "text/x-python",
   "name": "python",
   "nbconvert_exporter": "python",
   "pygments_lexer": "ipython3",
   "version": "3.10.6"
  }
 },
 "nbformat": 4,
 "nbformat_minor": 2
}
