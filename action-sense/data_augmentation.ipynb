{
 "cells": [
  {
   "cell_type": "code",
   "execution_count": 74,
   "metadata": {},
   "outputs": [],
   "source": [
    "import pandas as pd\n",
    "import numpy as np\n",
    "from copy import deepcopy"
   ]
  },
  {
   "cell_type": "code",
   "execution_count": 75,
   "metadata": {},
   "outputs": [],
   "source": [
    "SIDES=[\"left\", \"right\"]\n",
    "CLIP_DURATION = 5"
   ]
  },
  {
   "cell_type": "code",
   "execution_count": 76,
   "metadata": {},
   "outputs": [],
   "source": [
    "def load_data(path):\n",
    "    with open(path, \"rb\") as f:\n",
    "        data = pd.read_pickle(f)\n",
    "    return data\n",
    "\n",
    "def save_data(data, path):\n",
    "    with open(path, \"wb\") as f:\n",
    "        pd.to_pickle(data, f)"
   ]
  },
  {
   "cell_type": "code",
   "execution_count": 83,
   "metadata": {},
   "outputs": [],
   "source": [
    "# Function to process each row of the DataFrame\n",
    "def data_augmentation(data:pd.DataFrame, duration=5, num_clips=None):\n",
    "    if num_clips is None:\n",
    "        augmented=[]\n",
    "        for tup in data.iterrows():\n",
    "            row = tup[1].copy()\n",
    "            tot_time =  row[\"stop\"]- row[\"start\"]\n",
    "            if tot_time>duration:\n",
    "                cuts = np.arange(row[\"start\"], row[\"stop\"], duration)\n",
    "                for c in cuts:\n",
    "                    new_row = row.copy()\n",
    "                    new_row[\"start\"] = c\n",
    "                    if c+duration>row[\"stop\"]:\n",
    "                        new_row[\"stop\"] = row[\"stop\"]\n",
    "                    else:\n",
    "                        new_row[\"stop\"] = c+duration\n",
    "                    left_indexes=(new_row[\"myo_left_timestamps\"]>=c) & (new_row[\"myo_left_timestamps\"]<c+duration)\n",
    "                    right_indexes=(new_row[\"myo_right_timestamps\"]>=c) & (new_row[\"myo_right_timestamps\"]<c+duration)\n",
    "                    new_row[\"myo_left_timestamps\"] = new_row[\"myo_left_timestamps\"][left_indexes]\n",
    "                    new_row[\"myo_right_timestamps\"] = new_row[\"myo_right_timestamps\"][right_indexes]\n",
    "                    new_row[\"myo_left_readings\"] = new_row[\"myo_left_readings\"][left_indexes,:]\n",
    "                    new_row[\"myo_right_readings\"] = new_row[\"myo_right_readings\"][right_indexes,:]\n",
    "                    augmented.append(new_row)\n",
    "            else:\n",
    "                augmented.append(row)\n",
    "        return pd.DataFrame(augmented)\n",
    "    else:\n",
    "        augmented=[]\n",
    "        for tup in data.iterrows():\n",
    "            row = tup[1].copy()\n",
    "            tot_time =  row[\"stop\"]- row[\"start\"]\n",
    "            duration = min(duration, tot_time)\n",
    "            highest_offset=max(row[\"start\"], row[\"stop\"]-duration)\n",
    "            cuts = np.linspace(row[\"start\"], highest_offset, num_clips)\n",
    "            for c in cuts:\n",
    "                new_row = row.copy()\n",
    "                new_row[\"start\"] = c\n",
    "                if c+duration>row[\"stop\"]:\n",
    "                    new_row[\"stop\"] = row[\"stop\"]\n",
    "                else:\n",
    "                    new_row[\"stop\"] = c+duration\n",
    "                left_indexes=(new_row[\"myo_left_timestamps\"]>=c) & (new_row[\"myo_left_timestamps\"]<=c+duration)\n",
    "                right_indexes=(new_row[\"myo_right_timestamps\"]>=c) & (new_row[\"myo_right_timestamps\"]<=c+duration)\n",
    "                new_row[\"myo_left_timestamps\"] = new_row[\"myo_left_timestamps\"][left_indexes]\n",
    "                new_row[\"myo_right_timestamps\"] = new_row[\"myo_right_timestamps\"][right_indexes]\n",
    "                new_row[\"myo_left_readings\"] = new_row[\"myo_left_readings\"][left_indexes,:]\n",
    "                new_row[\"myo_right_readings\"] = new_row[\"myo_right_readings\"][right_indexes,:]\n",
    "                augmented.append(new_row)\n",
    "        return pd.DataFrame(augmented)"
   ]
  },
  {
   "cell_type": "code",
   "execution_count": 84,
   "metadata": {},
   "outputs": [],
   "source": [
    "def save_augmented_data(path, duration, name, num_clips=None):\n",
    "    data = load_data(path)\n",
    "    a = data_augmentation(data, duration, num_clips)\n",
    "    print(\"Original train data:\", data.shape)\n",
    "    print(\"Augmented train data:\", a.shape)\n",
    "    print(a.head())\n",
    "    print(\"Saving augmented data\")\n",
    "    save_data(a, f\"data/ActionNet/{name}_EMG_augmented.pkl\")"
   ]
  },
  {
   "cell_type": "code",
   "execution_count": 88,
   "metadata": {},
   "outputs": [
    {
     "name": "stdout",
     "output_type": "stream",
     "text": [
      "Original train data: (527, 9)\n",
      "Augmented train data: (10540, 9)\n",
      "                      description         start          stop  \\\n",
      "40  Spread jelly on a bread slice  1.657739e+09  1.657739e+09   \n",
      "40  Spread jelly on a bread slice  1.657739e+09  1.657739e+09   \n",
      "40  Spread jelly on a bread slice  1.657739e+09  1.657739e+09   \n",
      "40  Spread jelly on a bread slice  1.657739e+09  1.657739e+09   \n",
      "40  Spread jelly on a bread slice  1.657739e+09  1.657739e+09   \n",
      "\n",
      "                                  myo_left_timestamps  \\\n",
      "40  [1657738827.4506874, 1657738827.458187, 165773...   \n",
      "40  [1657738828.076678, 1657738828.080177, 1657738...   \n",
      "40  [1657738828.710679, 1657738828.718178, 1657738...   \n",
      "40  [1657738829.3326783, 1657738829.340179, 165773...   \n",
      "40  [1657738829.963178, 1657738829.9706826, 165773...   \n",
      "\n",
      "                                    myo_left_readings  \\\n",
      "40  [[4, 12, 21, -21, 3, -2, -5, 7], [-6, -5, -5, ...   \n",
      "40  [[-5, -7, -6, -66, -24, -23, -6, -14], [-5, -2...   \n",
      "40  [[-7, -12, -21, -38, 5, -10, -15, -22], [0, 2,...   \n",
      "40  [[2, -1, -3, -27, 0, -4, 0, -1], [-4, 5, 4, 5,...   \n",
      "40  [[1, -4, -4, 0, -2, -1, -1, 3], [1, 5, -3, 12,...   \n",
      "\n",
      "                                 myo_right_timestamps  \\\n",
      "40  [1657738827.447178, 1657738827.454177, 1657738...   \n",
      "40  [1657738828.07618, 1657738828.083182, 16577388...   \n",
      "40  [1657738828.707178, 1657738828.707678, 1657738...   \n",
      "40  [1657738829.337178, 1657738829.3381786, 165773...   \n",
      "40  [1657738829.965177, 1657738829.969677, 1657738...   \n",
      "\n",
      "                                   myo_right_readings Subject  label  \n",
      "40  [[-1, -3, 26, 9, 17, 15, 9, 6], [-4, 4, -23, -...   S08_1      4  \n",
      "40  [[1, -16, -37, -34, -12, -11, -25, -8], [5, 4,...   S08_1      4  \n",
      "40  [[-7, 5, -85, -19, 31, 12, 2, 1], [-10, 20, 12...   S08_1      4  \n",
      "40  [[10, 39, 35, -29, -20, -10, 10, -5], [-30, -4...   S08_1      4  \n",
      "40  [[-1, 1, 21, -6, -4, -1, -4, -6], [8, 7, -32, ...   S08_1      4  \n",
      "Saving augmented data\n"
     ]
    }
   ],
   "source": [
    "split=\"test\"\n",
    "save_augmented_data(f\"data/ActionNet_EMG/{split}_EMG_filtered.pkl\", 10, split, num_clips=20)"
   ]
  }
 ],
 "metadata": {
  "kernelspec": {
   "display_name": "Python 3",
   "language": "python",
   "name": "python3"
  },
  "language_info": {
   "codemirror_mode": {
    "name": "ipython",
    "version": 3
   },
   "file_extension": ".py",
   "mimetype": "text/x-python",
   "name": "python",
   "nbconvert_exporter": "python",
   "pygments_lexer": "ipython3",
   "version": "3.12.1"
  }
 },
 "nbformat": 4,
 "nbformat_minor": 2
}
