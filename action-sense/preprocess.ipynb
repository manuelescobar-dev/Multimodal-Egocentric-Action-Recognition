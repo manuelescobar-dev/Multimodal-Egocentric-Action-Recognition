{
 "cells": [
  {
   "cell_type": "code",
   "execution_count": 129,
   "metadata": {},
   "outputs": [],
   "source": [
    "import torch\n",
    "import torchaudio\n",
    "import torchaudio.functional as F\n",
    "import torchaudio.transforms as T\n",
    "import numpy as np\n",
    "import pandas as pd\n",
    "import numpy as np\n",
    "import pandas as pd\n",
    "from scipy.interpolate import interp1d\n",
    "from scipy.signal import butter, filtfilt\n",
    "import os"
   ]
  },
  {
   "cell_type": "code",
   "execution_count": 130,
   "metadata": {},
   "outputs": [],
   "source": [
    "FS = 160  # Sampling frequency\n",
    "CUTOFF = 5  # Cutoff frequency\n",
    "NUM_SAMPLES = 100\n",
    "CLIP_DURATION = 10 # Duration in seconds\n",
    "NUM_CLIPS = 10 \n",
    "DATA_PATH = \"data/ActionNet-EMG\"\n",
    "MODE = \"test\"\n",
    "FILENAME = f\"ActionNet_{MODE}_emg.pkl\"\n",
    "NEW_FILENAME = f\"ActionNet_{MODE}_emg_processed.pkl\"\n",
    "NUM_CHANNELS = 8\n",
    "SIDES=[\"left\", \"right\"]"
   ]
  },
  {
   "cell_type": "code",
   "execution_count": 131,
   "metadata": {},
   "outputs": [],
   "source": [
    "def rectify_signal(data):\n",
    "    return np.abs(data)\n",
    "\n",
    "def filter_signal(data, fs, cutoff, num_channels):\n",
    "    for i in range(num_channels):\n",
    "        data[:,i] = low_pass_filter(data[:,i], fs, cutoff)\n",
    "    return data\n",
    "\n",
    "def low_pass_filter(data, fs, cutoff, order=5):\n",
    "    nyquist = 0.5 * fs\n",
    "    normal_cutoff = cutoff / nyquist\n",
    "    b, a = butter(order, normal_cutoff, btype='low', analog=False)\n",
    "    return filtfilt(b, a, data, padlen=12)\n",
    "\n",
    "def normalization(data):\n",
    "    return 2 * (data - np.min(data)) / (np.max(data) - np.min(data)) - 1\n",
    "\n",
    "def preprocessing(data, steps):\n",
    "    for step in steps:\n",
    "        data.apply(step)\n",
    "        \n",
    "def load_data(path):\n",
    "    with open(path, \"rb\") as f:\n",
    "        data = pd.read_pickle(f)\n",
    "    return data\n",
    "\n",
    "def save_data(data, path):\n",
    "    with open(path, \"wb\") as f:\n",
    "        pd.to_pickle(data, f)\n"
   ]
  },
  {
   "cell_type": "code",
   "execution_count": 132,
   "metadata": {},
   "outputs": [
    {
     "name": "stdout",
     "output_type": "stream",
     "text": [
      "4     [[-1, -46, 29, 37, -8, 25, -10, 18], [4, 33, -...\n",
      "34    [[3, 34, 3, 0, -1, -3, -5, -4], [5, 28, 22, 7,...\n",
      "48    [[-1, -1, 1, 9, 32, 3, 0, -2], [1, 0, 0, -12, ...\n",
      "4     [[-11, 4, -1, -2, -31, 2, 21, -75], [14, -11, ...\n",
      "62    [[-1, -3, -1, 0, -3, -5, -15, 0], [1, 3, 4, 6,...\n",
      "Name: myo_left_readings, dtype: object\n"
     ]
    }
   ],
   "source": [
    "data = load_data(os.path.join(DATA_PATH, FILENAME))\n",
    "print(data[\"myo_left_readings\"].head())"
   ]
  },
  {
   "cell_type": "code",
   "execution_count": 133,
   "metadata": {},
   "outputs": [
    {
     "name": "stdout",
     "output_type": "stream",
     "text": [
      "4     [[1, 46, 29, 37, 8, 25, 10, 18], [4, 33, 23, 1...\n",
      "34    [[3, 34, 3, 0, 1, 3, 5, 4], [5, 28, 22, 7, 4, ...\n",
      "48    [[1, 1, 1, 9, 32, 3, 0, 2], [1, 0, 0, 12, 11, ...\n",
      "4     [[11, 4, 1, 2, 31, 2, 21, 75], [14, 11, 17, 12...\n",
      "62    [[1, 3, 1, 0, 3, 5, 15, 0], [1, 3, 4, 6, 3, 1,...\n",
      "Name: myo_left_readings, dtype: object\n"
     ]
    }
   ],
   "source": [
    "rectified_data = data.copy()\n",
    "rectified_data[\"myo_left_readings\"] = rectified_data[\"myo_left_readings\"].apply(rectify_signal)\n",
    "print(rectified_data[\"myo_left_readings\"].head())"
   ]
  },
  {
   "cell_type": "code",
   "execution_count": 134,
   "metadata": {},
   "outputs": [
    {
     "name": "stdout",
     "output_type": "stream",
     "text": [
      "4     [[1, 45, 26, 36, 13, 22, 8, 18], [3, 41, 26, 3...\n",
      "34    [[3, 35, 3, 0, 0, 2, 5, 3], [3, 34, 4, 0, 0, 2...\n",
      "48    [[0, 1, 0, 8, 32, 2, 0, 1], [0, 1, 1, 8, 30, 2...\n",
      "4     [[10, 3, 1, 1, 28, 1, 22, 73], [10, 4, 2, 2, 2...\n",
      "62    [[0, 2, 0, 0, 3, 5, 14, 0], [1, 2, 1, 0, 2, 4,...\n",
      "Name: myo_left_readings, dtype: object\n"
     ]
    }
   ],
   "source": [
    "filtered_data = rectified_data.copy()\n",
    "filtered_data[\"myo_left_readings\"]= filtered_data[\"myo_left_readings\"].apply(filter_signal, args=(FS, CUTOFF, NUM_CHANNELS))\n",
    "print(filtered_data[\"myo_left_readings\"].head())"
   ]
  },
  {
   "cell_type": "code",
   "execution_count": 135,
   "metadata": {},
   "outputs": [
    {
     "name": "stdout",
     "output_type": "stream",
     "text": [
      "4     [[-0.9733333333333334, 0.19999999999999996, -0...\n",
      "34    [[-0.8888888888888888, 0.2962962962962963, -0....\n",
      "48    [[-1.0, -0.972972972972973, -1.0, -0.783783783...\n",
      "4     [[-0.7468354430379747, -0.9240506329113924, -0...\n",
      "62    [[-1.0, -0.9166666666666666, -1.0, -1.0, -0.87...\n",
      "Name: myo_left_readings, dtype: object\n"
     ]
    }
   ],
   "source": [
    "normalized_data = filtered_data.copy()\n",
    "normalized_data[\"myo_left_readings\"] = normalized_data[\"myo_left_readings\"].apply(normalization)\n",
    "print(normalized_data[\"myo_left_readings\"].head())"
   ]
  },
  {
   "cell_type": "code",
   "execution_count": 136,
   "metadata": {},
   "outputs": [],
   "source": [
    "def preprocessing():\n",
    "    data = load_data(os.path.join(DATA_PATH, FILENAME))\n",
    "    for side in SIDES:\n",
    "        column = f\"myo_{side}_readings\"\n",
    "        data[column] = data[column].apply(rectify_signal)\n",
    "        data[column]= data[column].apply(filter_signal, args=(FS, CUTOFF, NUM_CHANNELS))\n",
    "        data[column] = data[column].apply(normalization)\n",
    "    save_data(data, os.path.join(DATA_PATH, NEW_FILENAME))"
   ]
  },
  {
   "cell_type": "code",
   "execution_count": 137,
   "metadata": {},
   "outputs": [],
   "source": [
    "preprocessing()"
   ]
  }
 ],
 "metadata": {
  "kernelspec": {
   "display_name": "Python 3",
   "language": "python",
   "name": "python3"
  },
  "language_info": {
   "codemirror_mode": {
    "name": "ipython",
    "version": 3
   },
   "file_extension": ".py",
   "mimetype": "text/x-python",
   "name": "python",
   "nbconvert_exporter": "python",
   "pygments_lexer": "ipython3",
   "version": "3.10.6"
  }
 },
 "nbformat": 4,
 "nbformat_minor": 2
}
