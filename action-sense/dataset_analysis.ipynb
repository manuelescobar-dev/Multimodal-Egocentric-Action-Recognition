{
 "cells": [
  {
   "cell_type": "code",
   "execution_count": 5,
   "metadata": {},
   "outputs": [],
   "source": [
    "import pickle\n",
    "import pandas as pd\n",
    "import numpy as np\n",
    "import os"
   ]
  },
  {
   "cell_type": "code",
   "execution_count": 2,
   "metadata": {},
   "outputs": [
    {
     "ename": "NameError",
     "evalue": "name 'os' is not defined",
     "output_type": "error",
     "traceback": [
      "\u001b[0;31m---------------------------------------------------------------------------\u001b[0m",
      "\u001b[0;31mNameError\u001b[0m                                 Traceback (most recent call last)",
      "Cell \u001b[0;32mIn[2], line 5\u001b[0m\n\u001b[1;32m      2\u001b[0m DATA_PATH\u001b[38;5;241m=\u001b[39m\u001b[38;5;124m'\u001b[39m\u001b[38;5;124mdata/ActionNet_EMG\u001b[39m\u001b[38;5;124m'\u001b[39m\n\u001b[1;32m      3\u001b[0m TRAINVAL_PATH\u001b[38;5;241m=\u001b[39m\u001b[38;5;124m'\u001b[39m\u001b[38;5;124mtrain_val\u001b[39m\u001b[38;5;124m'\u001b[39m\n\u001b[0;32m----> 5\u001b[0m \u001b[38;5;28;01mwith\u001b[39;00m \u001b[38;5;28mopen\u001b[39m(\u001b[43mos\u001b[49m\u001b[38;5;241m.\u001b[39mpath\u001b[38;5;241m.\u001b[39mjoin(DATA_PATH,\u001b[38;5;124m'\u001b[39m\u001b[38;5;124mActionNet_test_emg.pkl\u001b[39m\u001b[38;5;124m'\u001b[39m), \u001b[38;5;124m'\u001b[39m\u001b[38;5;124mrb\u001b[39m\u001b[38;5;124m'\u001b[39m) \u001b[38;5;28;01mas\u001b[39;00m f:\n\u001b[1;32m      6\u001b[0m     test \u001b[38;5;241m=\u001b[39m pd\u001b[38;5;241m.\u001b[39mread_pickle(f)\n\u001b[1;32m      8\u001b[0m \u001b[38;5;28;01mwith\u001b[39;00m \u001b[38;5;28mopen\u001b[39m(os\u001b[38;5;241m.\u001b[39mpath\u001b[38;5;241m.\u001b[39mjoin(DATA_PATH,\u001b[38;5;124m'\u001b[39m\u001b[38;5;124mActionNet_train_emg.pkl\u001b[39m\u001b[38;5;124m'\u001b[39m), \u001b[38;5;124m'\u001b[39m\u001b[38;5;124mrb\u001b[39m\u001b[38;5;124m'\u001b[39m) \u001b[38;5;28;01mas\u001b[39;00m f:\n",
      "\u001b[0;31mNameError\u001b[0m: name 'os' is not defined"
     ]
    }
   ],
   "source": [
    "SUBJECTS_PATH='data/Subjects_ActionNet_EMG'\n",
    "DATA_PATH='data/ActionNet_EMG'\n",
    "TRAINVAL_PATH='train_val'\n",
    "\n",
    "with open(os.path.join(DATA_PATH,'ActionNet_test_emg.pkl'), 'rb') as f:\n",
    "    test = pd.read_pickle(f)\n",
    "    \n",
    "with open(os.path.join(DATA_PATH,'ActionNet_train_emg.pkl'), 'rb') as f:\n",
    "    train = pd.read_pickle(f)\n",
    "\n",
    "with open(os.path.join(SUBJECTS_PATH,'S04_1.pkl'), 'rb') as f:\n",
    "    s04 = pd.read_pickle(f)\n",
    "    \n",
    "with open(os.path.join(DATA_PATH,'S04.pkl'), 'rb') as f:\n",
    "    s04_rgb = pd.read_pickle(f)\n",
    "    \n",
    "with open(os.path.join(DATA_PATH,'ActionNet_kfold_multimodal.pkl'), 'rb') as f:\n",
    "    s04_kfold = pd.read_pickle(f)\n",
    "    \n",
    "with open(os.path.join(DATA_PATH,'ActionNet_kfold_multimodal_filtered.pkl'), 'rb') as f:\n",
    "    s04_kfold_filtered = pd.read_pickle(f)\n",
    "    \n",
    "with open(os.path.join(TRAINVAL_PATH,\"ActionNet_test.pkl\"), 'rb') as f:\n",
    "    test_split = pd.read_pickle(f)\n",
    "    \n",
    "with open(os.path.join(TRAINVAL_PATH,\"ActionNet_train.pkl\"), 'rb') as f:\n",
    "    train_split = pd.read_pickle(f)\n",
    "    \n",
    "\"\"\" with open(os.path.join(DATA_PATH,'ActionNet_train_emg_augmented.pkl'), 'rb') as f:\n",
    "    aug_train = pd.read_pickle(f) \n",
    "    \n",
    "with open(os.path.join(DATA_PATH,'ActionNet_test_emg_augmented.pkl'), 'rb') as f:\n",
    "    aug_test = pd.read_pickle(f) \"\"\""
   ]
  },
  {
   "cell_type": "code",
   "execution_count": 3,
   "metadata": {},
   "outputs": [],
   "source": [
    "def dataset_information(df, label='description'):\n",
    "    if type(df)==str:\n",
    "        with open(df, 'rb') as f:\n",
    "            df = pd.read_pickle(f)\n",
    "    print(df.head())  \n",
    "    print(\"Columns: \", df.columns)\n",
    "    print(\"Number of samples: \", len(df))\n",
    "    print(\"Number of classes: \", len(df[label].unique()))\n",
    "    classes = df[label].unique()\n",
    "    classes.sort()\n",
    "    print(\"Classes: \",classes)\n",
    "    #print(\"Number of samples per class: \")\n",
    "    #print(df['description'].value_counts())\n",
    "    #print(\"Number of samples per subject: \")\n",
    "    #print(df['subject'].value_counts())\n",
    "      "
   ]
  },
  {
   "cell_type": "code",
   "execution_count": 6,
   "metadata": {},
   "outputs": [
    {
     "name": "stdout",
     "output_type": "stream",
     "text": [
      "                                          description              start  \\\n",
      "40                      Spread jelly on a bread slice  1657738827.446179   \n",
      "10  Get/replace items from refrigerator/cabinets/d...  1655240527.616489   \n",
      "6                                 Clear cutting board  1655227788.578162   \n",
      "24                                Clear cutting board  1657738275.781072   \n",
      "6                                    Slice a cucumber  1655240291.104034   \n",
      "\n",
      "                 stop                                myo_left_timestamps  \\\n",
      "40  1657738849.388229  [1657738827.4506874, 1657738827.458187, 165773...   \n",
      "10  1655240597.796199  [1655240527.6204886, 1655240527.624489, 165524...   \n",
      "6   1655227803.030983  [1655227788.5796585, 1655227788.586136, 165522...   \n",
      "24  1657738281.077074  [1657738275.7875714, 1657738275.795071, 165773...   \n",
      "6   1655240339.637956  [1655240291.109043, 1655240291.1125388, 165524...   \n",
      "\n",
      "                                    myo_left_readings  \\\n",
      "40  [[4, 12, 21, -21, 3, -2, -5, 7], [-6, -5, -5, ...   \n",
      "10  [[2, 2, -11, -8, -2, -7, 19, 5], [24, 17, -7, ...   \n",
      "6   [[7, 10, 11, 10, 6, 10, 10, 7], [-7, -24, -22,...   \n",
      "24  [[-7, -10, -6, 9, 7, -6, -18, 5], [17, -3, -18...   \n",
      "6   [[7, -6, -2, -11, -22, -33, -17, 5], [-13, 3, ...   \n",
      "\n",
      "                                 myo_right_timestamps  \\\n",
      "40  [1657738827.447178, 1657738827.454177, 1657738...   \n",
      "10  [1655240527.6189904, 1655240527.626494, 165524...   \n",
      "6   [1655227788.583146, 1655227788.5871325, 165522...   \n",
      "24  [1657738275.783073, 1657738275.7905731, 165773...   \n",
      "6   [1655240291.1150346, 1655240291.126035, 165524...   \n",
      "\n",
      "                                   myo_right_readings Subject  label  \n",
      "40  [[-1, -3, 26, 9, 17, 15, 9, 6], [-4, 4, -23, -...   S08_1      4  \n",
      "10  [[-3, -8, 4, 8, 2, -4, -3, -1], [-3, -2, -20, ...   S04_1     16  \n",
      "6   [[-26, -22, 17, 5, -23, -22, -20, -24], [19, 2...   S03_1      9  \n",
      "24  [[-4, -16, -68, 24, 6, 0, 0, 43], [-53, -7, -5...   S08_1      9  \n",
      "6   [[7, 13, 45, 14, -4, 1, 2, 4], [0, 2, -14, -10...   S04_1     15  \n",
      "Columns:  Index(['description', 'start', 'stop', 'myo_left_timestamps',\n",
      "       'myo_left_readings', 'myo_right_timestamps', 'myo_right_readings',\n",
      "       'Subject', 'label'],\n",
      "      dtype='object')\n",
      "Number of samples:  527\n",
      "Number of classes:  20\n",
      "Classes:  ['Clean a pan with a sponge' 'Clean a pan with a towel'\n",
      " 'Clean a plate with a sponge' 'Clean a plate with a towel'\n",
      " 'Clear cutting board'\n",
      " 'Get items from cabinets: 3 each large/small plates, bowls, mugs, glasses, sets of utensils'\n",
      " 'Get/replace items from refrigerator/cabinets/drawers'\n",
      " 'Load dishwasher: 3 each large/small plates, bowls, mugs, glasses, sets of utensils'\n",
      " 'Open/close a jar of almond butter' 'Peel a cucumber' 'Peel a potato'\n",
      " 'Pour water from a pitcher into a glass'\n",
      " 'Set table: 3 each large/small plates, bowls, mugs, glasses, sets of utensils'\n",
      " 'Slice a cucumber' 'Slice a potato' 'Slice bread'\n",
      " 'Spread almond butter on a bread slice' 'Spread jelly on a bread slice'\n",
      " 'Stack on table: 3 each large/small plates, bowls'\n",
      " 'Unload dishwasher: 3 each large/small plates, bowls, mugs, glasses, sets of utensils']\n"
     ]
    }
   ],
   "source": [
    "dataset_information(os.path.join(DATA_PATH,'ActionNet_train_emg_filtered.pkl'))"
   ]
  },
  {
   "cell_type": "code",
   "execution_count": 6,
   "metadata": {},
   "outputs": [
    {
     "name": "stdout",
     "output_type": "stream",
     "text": [
      "Columns:  Index(['description', 'start', 'stop', 'myo_left_timestamps',\n",
      "       'myo_left_readings', 'myo_right_timestamps', 'myo_right_readings',\n",
      "       'Subject', 'label'],\n",
      "      dtype='object')\n",
      "Number of samples:  51\n",
      "Number of classes:  19\n",
      "Classes:  ['Clean a pan with a sponge' 'Clean a pan with a towel'\n",
      " 'Clean a plate with a sponge' 'Clean a plate with a towel'\n",
      " 'Clear cutting board'\n",
      " 'Get items from cabinets: 3 each large/small plates, bowls, mugs, glasses, sets of utensils'\n",
      " 'Get/replace items from refrigerator/cabinets/drawers'\n",
      " 'Load dishwasher: 3 each large/small plates, bowls, mugs, glasses, sets of utensils'\n",
      " 'Open/close a jar of almond butter' 'Peel a cucumber' 'Peel a potato'\n",
      " 'Pour water from a pitcher into a glass' 'Slice a cucumber'\n",
      " 'Slice a potato' 'Slice bread' 'Spread almond butter on a bread slice'\n",
      " 'Spread jelly on a bread slice'\n",
      " 'Stack on table: 3 each large/small plates, bowls'\n",
      " 'Unload dishwasher: 3 each large/small plates, bowls, mugs, glasses, sets of utensils']\n"
     ]
    }
   ],
   "source": [
    "dataset_information(os.path.join(DATA_PATH,'ActionNet_train_multimodal_filtered.pkl'))"
   ]
  },
  {
   "cell_type": "markdown",
   "metadata": {},
   "source": [
    "# Merged Dataset"
   ]
  },
  {
   "cell_type": "code",
   "execution_count": 86,
   "metadata": {},
   "outputs": [
    {
     "name": "stdout",
     "output_type": "stream",
     "text": [
      "Columns:  Index(['description', 'start', 'stop', 'myo_left_timestamps',\n",
      "       'myo_left_readings', 'myo_right_timestamps', 'myo_right_readings'],\n",
      "      dtype='object')\n",
      "Number of samples:  60\n",
      "Number of classes:  21\n",
      "Classes:  ['Clean a pan with a sponge' 'Clean a pan with a towel'\n",
      " 'Clean a plate with a sponge' 'Clean a plate with a towel'\n",
      " 'Clear cutting board'\n",
      " 'Get items from cabinets: 3 each large/small plates, bowls, mugs, glasses, sets of utensils'\n",
      " 'Get/replace items from refrigerator/cabinets/drawers'\n",
      " 'Load dishwasher: 3 each large/small plates, bowls, mugs, glasses, sets of utensils'\n",
      " 'Open/close a jar of almond butter' 'Peel a cucumber' 'Peel a potato'\n",
      " 'Pour water from a pitcher into a glass'\n",
      " 'Set table: 3 each large/small plates, bowls, mugs, glasses, sets of utensils'\n",
      " 'Slice a cucumber' 'Slice a potato' 'Slice bread'\n",
      " 'Spread almond butter on a bread slice' 'Spread jelly on a bread slice'\n",
      " 'Stack on table: 3 each large/small plates, bowls'\n",
      " 'Unload dishwasher: 3 each large/small plates, bowls, mugs, glasses, sets of utensils'\n",
      " 'calibration']\n"
     ]
    }
   ],
   "source": [
    "dataset_information(os.path.join(DATA_PATH,\"S04.pkl\"), label='description')"
   ]
  },
  {
   "cell_type": "code",
   "execution_count": 87,
   "metadata": {},
   "outputs": [
    {
     "name": "stdout",
     "output_type": "stream",
     "text": [
      "Columns:  Index(['description', 'start', 'stop', 'myo_left_timestamps',\n",
      "       'myo_left_readings', 'myo_right_timestamps', 'myo_right_readings',\n",
      "       'Subject'],\n",
      "      dtype='object')\n",
      "Number of samples:  8\n",
      "Number of classes:  7\n",
      "Classes:  ['Clean a pan with a towel' 'Clean a plate with a towel'\n",
      " 'Clear cutting board' 'Open/close a jar of almond butter'\n",
      " 'Pour water from a pitcher into a glass'\n",
      " 'Set table: 3 each large/small plates, bowls, mugs, glasses, sets of utensils'\n",
      " 'Spread almond butter on a bread slice']\n"
     ]
    }
   ],
   "source": [
    "dataset_information(os.path.join(DATA_PATH,\"ActionNet_test_S04.pkl\"), label='description')"
   ]
  },
  {
   "cell_type": "code",
   "execution_count": 74,
   "metadata": {},
   "outputs": [
    {
     "name": "stdout",
     "output_type": "stream",
     "text": [
      "Number of samples:  527\n",
      "Number of classes:  22\n",
      "Classes:  ['Clean a pan with a sponge' 'Clean a pan with a towel'\n",
      " 'Clean a plate with a sponge' 'Clean a plate with a towel'\n",
      " 'Clear cutting board'\n",
      " 'Get items from cabinets: 3 each large/small plates, bowls, mugs, glasses, sets of utensils'\n",
      " 'Get items from refrigerator/cabinets/drawers'\n",
      " 'Get/replace items from refrigerator/cabinets/drawers'\n",
      " 'Load dishwasher: 3 each large/small plates, bowls, mugs, glasses, sets of utensils'\n",
      " 'Open a jar of almond butter' 'Open/close a jar of almond butter'\n",
      " 'Peel a cucumber' 'Peel a potato'\n",
      " 'Pour water from a pitcher into a glass'\n",
      " 'Set table: 3 each large/small plates, bowls, mugs, glasses, sets of utensils'\n",
      " 'Slice a cucumber' 'Slice a potato' 'Slice bread'\n",
      " 'Spread almond butter on a bread slice' 'Spread jelly on a bread slice'\n",
      " 'Stack on table: 3 each large/small plates, bowls'\n",
      " 'Unload dishwasher: 3 each large/small plates, bowls, mugs, glasses, sets of utensils']\n",
      "    index       file                                        description  \\\n",
      "40     40  S08_1.pkl                      Spread jelly on a bread slice   \n",
      "10     10  S04_1.pkl  Get/replace items from refrigerator/cabinets/d...   \n",
      "6       6  S03_1.pkl                                Clear cutting board   \n",
      "24     24  S08_1.pkl                                Clear cutting board   \n",
      "6       6  S04_1.pkl                                   Slice a cucumber   \n",
      "\n",
      "     labels  \n",
      "40   Spread  \n",
      "10  Get/Put  \n",
      "6     Clear  \n",
      "24    Clear  \n",
      "6     Slice  \n"
     ]
    }
   ],
   "source": [
    "dataset_information(train_split, label='description')"
   ]
  },
  {
   "cell_type": "code",
   "execution_count": 73,
   "metadata": {},
   "outputs": [
    {
     "name": "stdout",
     "output_type": "stream",
     "text": [
      "Number of samples:  59\n",
      "Number of classes:  20\n",
      "Classes:  ['Clean a pan with a towel' 'Clean a plate with a sponge'\n",
      " 'Clean a plate with a towel' 'Clear cutting board'\n",
      " 'Get items from cabinets: 3 each large/small plates, bowls, mugs, glasses, sets of utensils'\n",
      " 'Get items from refrigerator/cabinets/drawers'\n",
      " 'Get/replace items from refrigerator/cabinets/drawers'\n",
      " 'Load dishwasher: 3 each large/small plates, bowls, mugs, glasses, sets of utensils'\n",
      " 'Open/close a jar of almond butter' 'Peel a cucumber' 'Peel a potato'\n",
      " 'Pour water from a pitcher into a glass'\n",
      " 'Set table: 3 each large/small plates, bowls, mugs, glasses, sets of utensils'\n",
      " 'Slice a cucumber' 'Slice a potato' 'Slice bread'\n",
      " 'Spread almond butter on a bread slice' 'Spread jelly on a bread slice'\n",
      " 'Stack on table: 3 each large/small plates, bowls'\n",
      " 'Unload dishwasher: 3 each large/small plates, bowls, mugs, glasses, sets of utensils']\n",
      "    index       file                                       description  \\\n",
      "4       4  S02_2.pkl                                   Peel a cucumber   \n",
      "34     34  S04_1.pkl                 Open/close a jar of almond butter   \n",
      "48     48  S05_2.pkl                        Clean a plate with a towel   \n",
      "4       4  S05_2.pkl                                   Peel a cucumber   \n",
      "62     62  S07_1.pkl  Stack on table: 3 each large/small plates, bowls   \n",
      "\n",
      "        labels  \n",
      "4         Peel  \n",
      "34  Open/Close  \n",
      "48       Clean  \n",
      "4         Peel  \n",
      "62       Stack  \n"
     ]
    }
   ],
   "source": [
    "dataset_information(test_split, label=\"description\")"
   ]
  },
  {
   "cell_type": "code",
   "execution_count": 63,
   "metadata": {},
   "outputs": [
    {
     "name": "stdout",
     "output_type": "stream",
     "text": [
      "Number of samples:  527\n",
      "Number of classes:  22\n",
      "Classes:  ['Spread jelly on a bread slice'\n",
      " 'Get/replace items from refrigerator/cabinets/drawers'\n",
      " 'Clear cutting board' 'Slice a cucumber' 'Clean a pan with a sponge'\n",
      " 'Clean a pan with a towel' 'Get items from refrigerator/cabinets/drawers'\n",
      " 'Slice a potato' 'Pour water from a pitcher into a glass'\n",
      " 'Spread almond butter on a bread slice'\n",
      " 'Load dishwasher: 3 each large/small plates, bowls, mugs, glasses, sets of utensils'\n",
      " 'Slice bread' 'Clean a plate with a sponge' 'Peel a cucumber'\n",
      " 'Clean a plate with a towel' 'Open a jar of almond butter'\n",
      " 'Peel a potato' 'Open/close a jar of almond butter'\n",
      " 'Set table: 3 each large/small plates, bowls, mugs, glasses, sets of utensils'\n",
      " 'Stack on table: 3 each large/small plates, bowls'\n",
      " 'Get items from cabinets: 3 each large/small plates, bowls, mugs, glasses, sets of utensils'\n",
      " 'Unload dishwasher: 3 each large/small plates, bowls, mugs, glasses, sets of utensils']\n",
      "                                          description              start  \\\n",
      "40                      Spread jelly on a bread slice  1657738827.446179   \n",
      "10  Get/replace items from refrigerator/cabinets/d...  1655240527.616489   \n",
      "6                                 Clear cutting board  1655227788.578162   \n",
      "24                                Clear cutting board  1657738275.781072   \n",
      "6                                    Slice a cucumber  1655240291.104034   \n",
      "\n",
      "                 stop                                myo_left_timestamps  \\\n",
      "40  1657738849.388229  [1657738827.4506874, 1657738827.458187, 165773...   \n",
      "10  1655240597.796199  [1655240527.6204886, 1655240527.624489, 165524...   \n",
      "6   1655227803.030983  [1655227788.5796585, 1655227788.586136, 165522...   \n",
      "24  1657738281.077074  [1657738275.7875714, 1657738275.795071, 165773...   \n",
      "6   1655240339.637956  [1655240291.109043, 1655240291.1125388, 165524...   \n",
      "\n",
      "                                    myo_left_readings  \\\n",
      "40  [[4, 12, 21, -21, 3, -2, -5, 7], [-6, -5, -5, ...   \n",
      "10  [[2, 2, -11, -8, -2, -7, 19, 5], [24, 17, -7, ...   \n",
      "6   [[7, 10, 11, 10, 6, 10, 10, 7], [-7, -24, -22,...   \n",
      "24  [[-7, -10, -6, 9, 7, -6, -18, 5], [17, -3, -18...   \n",
      "6   [[7, -6, -2, -11, -22, -33, -17, 5], [-13, 3, ...   \n",
      "\n",
      "                                 myo_right_timestamps  \\\n",
      "40  [1657738827.447178, 1657738827.454177, 1657738...   \n",
      "10  [1655240527.6189904, 1655240527.626494, 165524...   \n",
      "6   [1655227788.583146, 1655227788.5871325, 165522...   \n",
      "24  [1657738275.783073, 1657738275.7905731, 165773...   \n",
      "6   [1655240291.1150346, 1655240291.126035, 165524...   \n",
      "\n",
      "                                   myo_right_readings Subject  \n",
      "40  [[-1, -3, 26, 9, 17, 15, 9, 6], [-4, 4, -23, -...   S08_1  \n",
      "10  [[-3, -8, 4, 8, 2, -4, -3, -1], [-3, -2, -20, ...   S04_1  \n",
      "6   [[-26, -22, 17, 5, -23, -22, -20, -24], [19, 2...   S03_1  \n",
      "24  [[-4, -16, -68, 24, 6, 0, 0, 43], [-53, -7, -5...   S08_1  \n",
      "6   [[7, 13, 45, 14, -4, 1, 2, 4], [0, 2, -14, -10...   S04_1  \n"
     ]
    }
   ],
   "source": [
    "dataset_information(train)"
   ]
  },
  {
   "cell_type": "markdown",
   "metadata": {},
   "source": [
    "# Augmented Dataset"
   ]
  },
  {
   "cell_type": "code",
   "execution_count": 53,
   "metadata": {},
   "outputs": [
    {
     "data": {
      "text/plain": [
       "[<matplotlib.lines.Line2D at 0x11f08e080>]"
      ]
     },
     "execution_count": 53,
     "metadata": {},
     "output_type": "execute_result"
    },
    {
     "data": {
      "image/png": "[encoded data removed]",
      "text/plain": [
       "<Figure size 640x480 with 1 Axes>"
      ]
     },
     "metadata": {},
     "output_type": "display_data"
    }
   ],
   "source": [
    "import matplotlib.pyplot as plt\n",
    "num=100\n",
    "plt.plot(test[\"myo_left_timestamps\"].iloc[0][0:num*15], test[\"myo_left_readings\"].iloc[0][:,0][0:num*15])\n",
    "plt.plot(aug_test[\"myo_left_timestamps\"].iloc[0][0:num], aug_test[\"myo_left_readings\"].iloc[0][:,0][0:num]*20)"
   ]
  }
 ],
 "metadata": {
  "kernelspec": {
   "display_name": "Python 3",
   "language": "python",
   "name": "python3"
  },
  "language_info": {
   "codemirror_mode": {
    "name": "ipython",
    "version": 3
   },
   "file_extension": ".py",
   "mimetype": "text/x-python",
   "name": "python",
   "nbconvert_exporter": "python",
   "pygments_lexer": "ipython3",
   "version": "3.10.6"
  }
 },
 "nbformat": 4,
 "nbformat_minor": 2
}
