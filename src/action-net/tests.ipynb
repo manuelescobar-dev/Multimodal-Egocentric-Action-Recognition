{
 "cells": [
  {
   "cell_type": "code",
   "execution_count": 2,
   "metadata": {},
   "outputs": [],
   "source": [
    "import pickle\n",
    "import pandas as pd"
   ]
  },
  {
   "cell_type": "code",
   "execution_count": 3,
   "metadata": {},
   "outputs": [],
   "source": [
    "with open('ActionNet_test.pkl', 'rb') as f:\n",
    "    test = pickle.load(f)\n",
    "    \n",
    "with open('ActionNet_train.pkl', 'rb') as f:\n",
    "    train = pickle.load(f)\n",
    "    \n",
    "with open('../data/ActionNet-EMG/S04_1.pkl', 'rb') as f:\n",
    "    emg = pickle.load(f)"
   ]
  },
  {
   "cell_type": "code",
   "execution_count": 4,
   "metadata": {},
   "outputs": [],
   "source": [
    "test_data = pd.DataFrame(test)\n",
    "train_data = pd.DataFrame(train)\n",
    "emg_data = pd.DataFrame(emg)"
   ]
  },
  {
   "cell_type": "code",
   "execution_count": 5,
   "metadata": {},
   "outputs": [
    {
     "data": {
      "text/html": [
       "<div>\n",
       "<style scoped>\n",
       "    .dataframe tbody tr th:only-of-type {\n",
       "        vertical-align: middle;\n",
       "    }\n",
       "\n",
       "    .dataframe tbody tr th {\n",
       "        vertical-align: top;\n",
       "    }\n",
       "\n",
       "    .dataframe thead th {\n",
       "        text-align: right;\n",
       "    }\n",
       "</style>\n",
       "<table border=\"1\" class=\"dataframe\">\n",
       "  <thead>\n",
       "    <tr style=\"text-align: right;\">\n",
       "      <th></th>\n",
       "      <th>index</th>\n",
       "      <th>file</th>\n",
       "      <th>description</th>\n",
       "      <th>labels</th>\n",
       "    </tr>\n",
       "  </thead>\n",
       "  <tbody>\n",
       "    <tr>\n",
       "      <th>4</th>\n",
       "      <td>4</td>\n",
       "      <td>S02_2.pkl</td>\n",
       "      <td>Peel a cucumber</td>\n",
       "      <td>Peel</td>\n",
       "    </tr>\n",
       "    <tr>\n",
       "      <th>34</th>\n",
       "      <td>34</td>\n",
       "      <td>S04_1.pkl</td>\n",
       "      <td>Open/close a jar of almond butter</td>\n",
       "      <td>Open/Close</td>\n",
       "    </tr>\n",
       "    <tr>\n",
       "      <th>48</th>\n",
       "      <td>48</td>\n",
       "      <td>S05_2.pkl</td>\n",
       "      <td>Clean a plate with a towel</td>\n",
       "      <td>Clean</td>\n",
       "    </tr>\n",
       "    <tr>\n",
       "      <th>4</th>\n",
       "      <td>4</td>\n",
       "      <td>S05_2.pkl</td>\n",
       "      <td>Peel a cucumber</td>\n",
       "      <td>Peel</td>\n",
       "    </tr>\n",
       "    <tr>\n",
       "      <th>62</th>\n",
       "      <td>62</td>\n",
       "      <td>S07_1.pkl</td>\n",
       "      <td>Stack on table: 3 each large/small plates, bowls</td>\n",
       "      <td>Stack</td>\n",
       "    </tr>\n",
       "  </tbody>\n",
       "</table>\n",
       "</div>"
      ],
      "text/plain": [
       "    index       file                                       description  \\\n",
       "4       4  S02_2.pkl                                   Peel a cucumber   \n",
       "34     34  S04_1.pkl                 Open/close a jar of almond butter   \n",
       "48     48  S05_2.pkl                        Clean a plate with a towel   \n",
       "4       4  S05_2.pkl                                   Peel a cucumber   \n",
       "62     62  S07_1.pkl  Stack on table: 3 each large/small plates, bowls   \n",
       "\n",
       "        labels  \n",
       "4         Peel  \n",
       "34  Open/Close  \n",
       "48       Clean  \n",
       "4         Peel  \n",
       "62       Stack  "
      ]
     },
     "execution_count": 5,
     "metadata": {},
     "output_type": "execute_result"
    }
   ],
   "source": [
    "test_data.head()"
   ]
  },
  {
   "cell_type": "code",
   "execution_count": 6,
   "metadata": {},
   "outputs": [
    {
     "data": {
      "text/html": [
       "<div>\n",
       "<style scoped>\n",
       "    .dataframe tbody tr th:only-of-type {\n",
       "        vertical-align: middle;\n",
       "    }\n",
       "\n",
       "    .dataframe tbody tr th {\n",
       "        vertical-align: top;\n",
       "    }\n",
       "\n",
       "    .dataframe thead th {\n",
       "        text-align: right;\n",
       "    }\n",
       "</style>\n",
       "<table border=\"1\" class=\"dataframe\">\n",
       "  <thead>\n",
       "    <tr style=\"text-align: right;\">\n",
       "      <th></th>\n",
       "      <th>index</th>\n",
       "      <th>file</th>\n",
       "      <th>description</th>\n",
       "      <th>labels</th>\n",
       "    </tr>\n",
       "  </thead>\n",
       "  <tbody>\n",
       "    <tr>\n",
       "      <th>40</th>\n",
       "      <td>40</td>\n",
       "      <td>S08_1.pkl</td>\n",
       "      <td>Spread jelly on a bread slice</td>\n",
       "      <td>Spread</td>\n",
       "    </tr>\n",
       "    <tr>\n",
       "      <th>10</th>\n",
       "      <td>10</td>\n",
       "      <td>S04_1.pkl</td>\n",
       "      <td>Get/replace items from refrigerator/cabinets/d...</td>\n",
       "      <td>Get/Put</td>\n",
       "    </tr>\n",
       "    <tr>\n",
       "      <th>6</th>\n",
       "      <td>6</td>\n",
       "      <td>S03_1.pkl</td>\n",
       "      <td>Clear cutting board</td>\n",
       "      <td>Clear</td>\n",
       "    </tr>\n",
       "    <tr>\n",
       "      <th>24</th>\n",
       "      <td>24</td>\n",
       "      <td>S08_1.pkl</td>\n",
       "      <td>Clear cutting board</td>\n",
       "      <td>Clear</td>\n",
       "    </tr>\n",
       "    <tr>\n",
       "      <th>6</th>\n",
       "      <td>6</td>\n",
       "      <td>S04_1.pkl</td>\n",
       "      <td>Slice a cucumber</td>\n",
       "      <td>Slice</td>\n",
       "    </tr>\n",
       "  </tbody>\n",
       "</table>\n",
       "</div>"
      ],
      "text/plain": [
       "    index       file                                        description  \\\n",
       "40     40  S08_1.pkl                      Spread jelly on a bread slice   \n",
       "10     10  S04_1.pkl  Get/replace items from refrigerator/cabinets/d...   \n",
       "6       6  S03_1.pkl                                Clear cutting board   \n",
       "24     24  S08_1.pkl                                Clear cutting board   \n",
       "6       6  S04_1.pkl                                   Slice a cucumber   \n",
       "\n",
       "     labels  \n",
       "40   Spread  \n",
       "10  Get/Put  \n",
       "6     Clear  \n",
       "24    Clear  \n",
       "6     Slice  "
      ]
     },
     "execution_count": 6,
     "metadata": {},
     "output_type": "execute_result"
    }
   ],
   "source": [
    "train_data.head()"
   ]
  },
  {
   "cell_type": "code",
   "execution_count": 7,
   "metadata": {},
   "outputs": [
    {
     "data": {
      "text/html": [
       "<div>\n",
       "<style scoped>\n",
       "    .dataframe tbody tr th:only-of-type {\n",
       "        vertical-align: middle;\n",
       "    }\n",
       "\n",
       "    .dataframe tbody tr th {\n",
       "        vertical-align: top;\n",
       "    }\n",
       "\n",
       "    .dataframe thead th {\n",
       "        text-align: right;\n",
       "    }\n",
       "</style>\n",
       "<table border=\"1\" class=\"dataframe\">\n",
       "  <thead>\n",
       "    <tr style=\"text-align: right;\">\n",
       "      <th></th>\n",
       "      <th>description</th>\n",
       "      <th>start</th>\n",
       "      <th>stop</th>\n",
       "      <th>myo_left_timestamps</th>\n",
       "      <th>myo_left_readings</th>\n",
       "      <th>myo_right_timestamps</th>\n",
       "      <th>myo_right_readings</th>\n",
       "    </tr>\n",
       "  </thead>\n",
       "  <tbody>\n",
       "    <tr>\n",
       "      <th>0</th>\n",
       "      <td>calibration</td>\n",
       "      <td>1.655239e+09</td>\n",
       "      <td>1.655240e+09</td>\n",
       "      <td>[]</td>\n",
       "      <td>[]</td>\n",
       "      <td>[]</td>\n",
       "      <td>[]</td>\n",
       "    </tr>\n",
       "    <tr>\n",
       "      <th>1</th>\n",
       "      <td>Get/replace items from refrigerator/cabinets/d...</td>\n",
       "      <td>1.655240e+09</td>\n",
       "      <td>1.655240e+09</td>\n",
       "      <td>[1655239974.420555, 1655239974.432055, 1655239...</td>\n",
       "      <td>[[8, 7, 2, 2, 6, 5, 14, 2], [-4, 23, 19, 6, 16...</td>\n",
       "      <td>[1655239974.4195595, 1655239974.427058, 165523...</td>\n",
       "      <td>[[-2, -3, 2, 3, -8, -1, 1, -2], [3, 7, 8, -1, ...</td>\n",
       "    </tr>\n",
       "    <tr>\n",
       "      <th>2</th>\n",
       "      <td>Peel a cucumber</td>\n",
       "      <td>1.655240e+09</td>\n",
       "      <td>1.655240e+09</td>\n",
       "      <td>[1655240064.7444172, 1655240064.748419, 165524...</td>\n",
       "      <td>[[78, 57, 43, 7, 18, 18, 4, 16], [3, 0, 48, 6,...</td>\n",
       "      <td>[1655240064.7504191, 1655240064.76542, 1655240...</td>\n",
       "      <td>[[-18, 14, 26, -3, -15, -12, -26, 4], [-20, -2...</td>\n",
       "    </tr>\n",
       "    <tr>\n",
       "      <th>3</th>\n",
       "      <td>Peel a cucumber</td>\n",
       "      <td>1.655240e+09</td>\n",
       "      <td>1.655240e+09</td>\n",
       "      <td>[1655240130.5200577, 1655240130.531557, 165524...</td>\n",
       "      <td>[[-30, 20, 18, 1, 12, 23, 21, -10], [23, -15, ...</td>\n",
       "      <td>[1655240130.5190585, 1655240130.526558, 165524...</td>\n",
       "      <td>[[1, -21, 22, 14, 13, -24, -1, -12], [-58, -83...</td>\n",
       "    </tr>\n",
       "    <tr>\n",
       "      <th>4</th>\n",
       "      <td>Peel a cucumber</td>\n",
       "      <td>1.655240e+09</td>\n",
       "      <td>1.655240e+09</td>\n",
       "      <td>[1655240178.033217, 1655240178.037216, 1655240...</td>\n",
       "      <td>[[4, -19, -26, -63, -31, -36, -3, -1], [-30, -...</td>\n",
       "      <td>[1655240178.0472164, 1655240178.062216, 165524...</td>\n",
       "      <td>[[-4, 57, 49, 32, 34, 7, 7, 7], [-13, -80, -29...</td>\n",
       "    </tr>\n",
       "  </tbody>\n",
       "</table>\n",
       "</div>"
      ],
      "text/plain": [
       "                                         description         start  \\\n",
       "0                                        calibration  1.655239e+09   \n",
       "1  Get/replace items from refrigerator/cabinets/d...  1.655240e+09   \n",
       "2                                    Peel a cucumber  1.655240e+09   \n",
       "3                                    Peel a cucumber  1.655240e+09   \n",
       "4                                    Peel a cucumber  1.655240e+09   \n",
       "\n",
       "           stop                                myo_left_timestamps  \\\n",
       "0  1.655240e+09                                                 []   \n",
       "1  1.655240e+09  [1655239974.420555, 1655239974.432055, 1655239...   \n",
       "2  1.655240e+09  [1655240064.7444172, 1655240064.748419, 165524...   \n",
       "3  1.655240e+09  [1655240130.5200577, 1655240130.531557, 165524...   \n",
       "4  1.655240e+09  [1655240178.033217, 1655240178.037216, 1655240...   \n",
       "\n",
       "                                   myo_left_readings  \\\n",
       "0                                                 []   \n",
       "1  [[8, 7, 2, 2, 6, 5, 14, 2], [-4, 23, 19, 6, 16...   \n",
       "2  [[78, 57, 43, 7, 18, 18, 4, 16], [3, 0, 48, 6,...   \n",
       "3  [[-30, 20, 18, 1, 12, 23, 21, -10], [23, -15, ...   \n",
       "4  [[4, -19, -26, -63, -31, -36, -3, -1], [-30, -...   \n",
       "\n",
       "                                myo_right_timestamps  \\\n",
       "0                                                 []   \n",
       "1  [1655239974.4195595, 1655239974.427058, 165523...   \n",
       "2  [1655240064.7504191, 1655240064.76542, 1655240...   \n",
       "3  [1655240130.5190585, 1655240130.526558, 165524...   \n",
       "4  [1655240178.0472164, 1655240178.062216, 165524...   \n",
       "\n",
       "                                  myo_right_readings  \n",
       "0                                                 []  \n",
       "1  [[-2, -3, 2, 3, -8, -1, 1, -2], [3, 7, 8, -1, ...  \n",
       "2  [[-18, 14, 26, -3, -15, -12, -26, 4], [-20, -2...  \n",
       "3  [[1, -21, 22, 14, 13, -24, -1, -12], [-58, -83...  \n",
       "4  [[-4, 57, 49, 32, 34, 7, 7, 7], [-13, -80, -29...  "
      ]
     },
     "execution_count": 7,
     "metadata": {},
     "output_type": "execute_result"
    }
   ],
   "source": [
    "emg_data.head()"
   ]
  },
  {
   "cell_type": "code",
   "execution_count": 8,
   "metadata": {},
   "outputs": [
    {
     "data": {
      "text/plain": [
       "(7739, 8)"
      ]
     },
     "execution_count": 8,
     "metadata": {},
     "output_type": "execute_result"
    }
   ],
   "source": [
    "emg_data[\"myo_left_readings\"][2].shape"
   ]
  },
  {
   "cell_type": "code",
   "execution_count": 18,
   "metadata": {},
   "outputs": [
    {
     "name": "stdout",
     "output_type": "stream",
     "text": [
      "0                                                   []\n",
      "1    [1655239974.420555, 1655239974.432055, 1655239...\n",
      "2    [1655240064.7444172, 1655240064.748419, 165524...\n",
      "3    [1655240130.5200577, 1655240130.531557, 165524...\n",
      "4    [1655240178.033217, 1655240178.037216, 1655240...\n",
      "Name: myo_left_timestamps, dtype: object\n",
      "55    [1655241895.143991, 1655241895.147988, 1655241...\n",
      "56    [1655242026.407278, 1655242026.410778, 1655242...\n",
      "57    [1655242143.2735891, 1655242143.281089, 165524...\n",
      "58    [1655242198.7367425, 1655242198.744243, 165524...\n",
      "59    [1655242320.981325, 1655242320.9888253, 165524...\n",
      "Name: myo_left_timestamps, dtype: object\n"
     ]
    }
   ],
   "source": [
    "print(emg_data[\"myo_left_timestamps\"].head())\n",
    "print(emg_data[\"myo_left_timestamps\"].tail())"
   ]
  }
 ],
 "metadata": {
  "kernelspec": {
   "display_name": "Python 3",
   "language": "python",
   "name": "python3"
  },
  "language_info": {
   "codemirror_mode": {
    "name": "ipython",
    "version": 3
   },
   "file_extension": ".py",
   "mimetype": "text/x-python",
   "name": "python",
   "nbconvert_exporter": "python",
   "pygments_lexer": "ipython3",
   "version": "3.10.6"
  }
 },
 "nbformat": 4,
 "nbformat_minor": 2
}
